{
 "cells": [
  {
   "cell_type": "markdown",
   "metadata": {},
   "source": [
    "### HYPOTHESIS TESTING"
   ]
  },
  {
   "cell_type": "code",
   "execution_count": null,
   "metadata": {},
   "outputs": [
    {
     "name": "stdout",
     "output_type": "stream",
     "text": [
      "Test Statistic (t-score): -38.0000\n",
      "Critical Value: 1.6449\n",
      "P-value: 1.0000\n",
      "\n",
      "Decision:\n",
      "Fail to reject the null hypothesis (H0). There is not enough evidence to suggest that the weekly operating costs are significantly higher.\n",
      "H1 is rejected and Ho is accepted\n"
     ]
    }
   ],
   "source": [
    "import scipy.stats as stats\n",
    "import numpy as np\n",
    "\n",
    "# Given Data\n",
    "sample_mean = 3050  # Rs.\n",
    "theoretical_mean = 1000 + (5 * 600)  # Rs.\n",
    "sigma = 5 * 25  # Standard deviation\n",
    "n = 25  # Sample size\n",
    "alpha = 0.05  # Significance level\n",
    "\n",
    "# State the Hypotheses\n",
    "# H0: The theoretical cost model is accurate (mean weekly cost = theoretical_mean)\n",
    "# H1: The actual mean weekly cost is higher than the theoretical model\n",
    "\n",
    "# Calculate the Test Statistic (t-score)\n",
    "t_score = (sample_mean - theoretical_mean) / (sigma / np.sqrt(n))\n",
    "print(f\"Test Statistic (t-score): {t_score:.4f}\")\n",
    "\n",
    "# Determine the Critical Value\n",
    "critical_value = stats.norm.ppf(1 - alpha)  # One-tailed test\n",
    "print(f\"Critical Value: {critical_value:.4f}\")\n",
    "\n",
    "# Compute p-value\n",
    "pvalue = 1 - stats.norm.cdf(t_score)\n",
    "print(f\"P-value: {pvalue:.4f}\")\n",
    "\n",
    "# Alternative Method using p-value\n",
    "alpha = 0.05\n",
    "if pvalue < alpha:\n",
    "    print(\"Ho is rejected and H1 is accepted\")\n",
    "else:\n",
    "    print(\"H1 is rejected and Ho is accepted\")\n"
   ]
  },
  {
   "cell_type": "markdown",
   "metadata": {},
   "source": [
    "### CHI-SQUARE TEST"
   ]
  },
  {
   "cell_type": "code",
   "execution_count": 4,
   "metadata": {},
   "outputs": [
    {
     "name": "stdout",
     "output_type": "stream",
     "text": [
      "Chi-Square Statistic: 5.6382\n",
      "Degrees of Freedom: 4\n",
      "Expected Frequencies Table:\n",
      "[[ 48.  72.]\n",
      " [ 72. 108.]\n",
      " [ 60.  90.]\n",
      " [ 32.  48.]\n",
      " [ 28.  42.]]\n",
      "Critical Value: 9.4877\n",
      "P-value: 0.2278\n",
      "H1 is rejected and Ho is accepted\n"
     ]
    }
   ],
   "source": [
    "import scipy.stats as stats\n",
    "import numpy as np\n",
    "\n",
    "# Step 1: State the Hypotheses\n",
    "# H0: There is no association between the type of smart home device and customer satisfaction.\n",
    "# H1: There is an association between the type of smart home device and customer satisfaction.\n",
    "\n",
    "# Step 2: Create the Contingency Table\n",
    "observed = np.array([[50, 70],\n",
    "                      [80, 100],\n",
    "                      [60, 90],\n",
    "                      [30, 50],\n",
    "                      [20, 50]])\n",
    "\n",
    "# Step 3: Compute the Chi-Square Statistic\n",
    "chi2_stat, p_value, dof, expected = stats.chi2_contingency(observed)\n",
    "\n",
    "print(f\"Chi-Square Statistic: {chi2_stat:.4f}\")\n",
    "print(f\"Degrees of Freedom: {dof}\")\n",
    "print(\"Expected Frequencies Table:\")\n",
    "print(expected)\n",
    "\n",
    "# Step 4: Determine the Critical Value\n",
    "alpha = 0.05\n",
    "critical_value = stats.chi2.ppf(1 - alpha, dof)\n",
    "print(f\"Critical Value: {critical_value:.4f}\")\n",
    "print(f\"P-value: {p_value:.4f}\")\n",
    "\n",
    "alpha = 0.05\n",
    "if pvalue < alpha:\n",
    "    print(\"Ho is rejected and H1 is accepted\")\n",
    "else:\n",
    "    print(\"H1 is rejected and Ho is accepted\")"
   ]
  },
  {
   "cell_type": "code",
   "execution_count": null,
   "metadata": {},
   "outputs": [],
   "source": []
  }
 ],
 "metadata": {
  "kernelspec": {
   "display_name": "Python 3",
   "language": "python",
   "name": "python3"
  },
  "language_info": {
   "codemirror_mode": {
    "name": "ipython",
    "version": 3
   },
   "file_extension": ".py",
   "mimetype": "text/x-python",
   "name": "python",
   "nbconvert_exporter": "python",
   "pygments_lexer": "ipython3",
   "version": "3.9.0"
  }
 },
 "nbformat": 4,
 "nbformat_minor": 2
}
